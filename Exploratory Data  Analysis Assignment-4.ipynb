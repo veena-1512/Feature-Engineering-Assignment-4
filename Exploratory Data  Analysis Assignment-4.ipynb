{
 "cells": [
  {
   "cell_type": "code",
   "execution_count": null,
   "id": "07f5d096-421a-4c18-9521-4290bcd9ba47",
   "metadata": {},
   "outputs": [],
   "source": [
    "Q1. Label Encoding vs Ordinal Encoding:-\n",
    "\n",
    "•Label Encoding apply on ordinal and nominal categorical variables.\n",
    "\n",
    "•Ordinal Encoding apply on ordinal categorical variables."
   ]
  },
  {
   "cell_type": "markdown",
   "id": "67000cca-462a-43e5-a0af-3d233d98d836",
   "metadata": {},
   "source": [
    "Example:- \n",
    "\n",
    "In ordinal encoding:- labels are translated to numbers based on their ordinal relationship to one another. For example, if one feature contains {low, medium, high}, it can be converted into {1,2,3}, where 1 represents low, 2 represents medium, and 3 represents high.\n",
    "\n",
    "Label Encoding:-  converting categorical features into numerical values. Features which define a category are Categorical Variables. E.g. Color (red, blue, green), Gender(Male, Female). Machine learning models expect features to be either floats or integers therefore categorical features like color, gender etc."
   ]
  },
  {
   "cell_type": "markdown",
   "id": "1555b752-98c2-400c-b7fd-d7c263aaba6e",
   "metadata": {},
   "source": [
    "Q2. Target Guided Ordinal Encoding is a technique used in machine learning for encoding categorical variables based on their relationship with the target variable. It is particularly useful when dealing with ordinal categorical variables, which have a natural order or ranking among their categories. The goal of this encoding is to capture the information about the ordinal nature of the categories and their impact on the target variable.\n",
    "\n",
    "Here's how Target Guided Ordinal Encoding works:\n",
    "\n",
    "Order Categories: First, you need to establish a meaningful order or ranking for the categories within the ordinal variable. For example, if you're working with an ordinal variable representing education level (e.g., \"High School,\" \"Bachelor's,\" \"Master's,\" \"Ph.D.\"), you would assign a numerical order to these categories based on their level of education.\n",
    "\n",
    "Calculate Target Statistics: For each unique category in the ordinal variable, calculate relevant statistics of the target variable. Typically, these statistics include measures like mean, median, or some other quantile of the target variable for each category. These statistics reflect the relationship between the ordinal variable and the target variable.\n",
    "\n",
    "Map Categories to Statistics: Map each category to the calculated target statistic. In other words, replace the ordinal categories with their corresponding statistic values. For example, if the ordinal variable is education level and you've calculated the mean target value for each education level, you would replace \"High School\" with the mean target value for that category, and so on.\n",
    "\n",
    "Handle Missing Categories: If there are missing categories in your dataset, you can handle them by assigning them a default value, such as the overall mean or median of the target variable."
   ]
  },
  {
   "cell_type": "code",
   "execution_count": 1,
   "id": "20c73f4a-1629-4eea-b139-ff65bb0e4b2c",
   "metadata": {},
   "outputs": [],
   "source": [
    "# Example:-\n",
    "\n",
    "import pandas as pd\n",
    "\n",
    "data = {\n",
    "    'Employment_Type': ['Unemployed', 'Part-Time', 'Full-Time', 'Self-Employed', 'Full-Time', 'Part-Time'],\n",
    "    'Default_Rate': [0.2, 0.1, 0.05, 0.15, 0.08, 0.12]\n",
    "}\n",
    "\n",
    "df = pd.DataFrame(data)"
   ]
  },
  {
   "cell_type": "code",
   "execution_count": 2,
   "id": "b28a7d41-e272-4dd7-882a-5d98c1cc57a7",
   "metadata": {},
   "outputs": [
    {
     "name": "stdout",
     "output_type": "stream",
     "text": [
      "  Employment_Type  Default_Rate\n",
      "0      Unemployed          0.20\n",
      "1       Part-Time          0.10\n",
      "2       Full-Time          0.05\n",
      "3   Self-Employed          0.15\n",
      "4       Full-Time          0.08\n",
      "5       Part-Time          0.12\n"
     ]
    }
   ],
   "source": [
    "print(df)"
   ]
  },
  {
   "cell_type": "code",
   "execution_count": 3,
   "id": "d16bd443-1bb9-43b2-8131-b9ad84d983bd",
   "metadata": {},
   "outputs": [
    {
     "name": "stdout",
     "output_type": "stream",
     "text": [
      "  Employment_Type  Default_Rate  Employment_Type_Encoded\n",
      "0      Unemployed          0.20                    0.200\n",
      "1       Part-Time          0.10                    0.110\n",
      "2       Full-Time          0.05                    0.065\n",
      "3   Self-Employed          0.15                    0.150\n",
      "4       Full-Time          0.08                    0.065\n",
      "5       Part-Time          0.12                    0.110\n"
     ]
    }
   ],
   "source": [
    "mean_default_rate = df.groupby('Employment_Type')['Default_Rate'].mean().sort_values()\n",
    "\n",
    "mapping = {employment_type: rate for employment_type, rate in zip(mean_default_rate.index, mean_default_rate)}\n",
    "\n",
    "df['Employment_Type_Encoded'] = df['Employment_Type'].map(mapping)\n",
    "\n",
    "print(df)"
   ]
  },
  {
   "cell_type": "markdown",
   "id": "3b6752c6-9d0f-4ae0-91df-d9fa96c67e3b",
   "metadata": {},
   "source": [
    "Q3. Covariance is a statistical measure that indicates the extent to which two random variables change together. In other words, it measures the degree of linear relationship between two variables. A positive covariance indicates that as one variable increases, the other tends to increase as well. A negative covariance indicates that as one variable increases, the other tends to decrease. A covariance close to zero suggests that there is little to no linear relationship between the variables.\n",
    "\n",
    "Covariance is important in statistical analysis for several reasons:\n",
    "\n",
    "Relationship Assessment: \n",
    "Portfolio Diversification:\n",
    "Feature Selection: \n",
    "Multivariate Analysis: \n",
    "Principal Component Analysis (PCA): \n"
   ]
  },
  {
   "cell_type": "code",
   "execution_count": 4,
   "id": "6de5ba20-60a2-42b1-823f-68a70b531c84",
   "metadata": {},
   "outputs": [
    {
     "name": "stdout",
     "output_type": "stream",
     "text": [
      "Covariance: 2.5\n"
     ]
    }
   ],
   "source": [
    "import numpy as np\n",
    "\n",
    "x = [1, 2, 3, 4, 5]\n",
    "y = [2, 3, 4, 5, 6]\n",
    "\n",
    "covariance = np.cov(x, y)[0, 1]\n",
    "\n",
    "print(\"Covariance:\", covariance)\n"
   ]
  },
  {
   "cell_type": "markdown",
   "id": "3dca19f4-a297-4ea7-8ecc-6d972f62c5e1",
   "metadata": {},
   "source": [
    "Q4. Label encoding is a technique used to convert categorical variables into numerical values. "
   ]
  },
  {
   "cell_type": "code",
   "execution_count": 5,
   "id": "b77ec436-f8b7-485e-8932-91abd4f18e92",
   "metadata": {},
   "outputs": [],
   "source": [
    "from sklearn.preprocessing import LabelEncoder\n",
    "\n",
    "data = {\n",
    "    'Color': ['red', 'green', 'blue', 'red', 'blue'],\n",
    "    'Size': ['small', 'medium', 'large', 'medium', 'small'],\n",
    "    'Material': ['wood', 'metal', 'plastic', 'metal', 'plastic']\n",
    "}\n"
   ]
  },
  {
   "cell_type": "code",
   "execution_count": 6,
   "id": "0e8b68a1-a2fd-4a3b-8a5c-4b2d796f600a",
   "metadata": {},
   "outputs": [],
   "source": [
    "import pandas as pd\n",
    "df = pd.DataFrame(data)\n"
   ]
  },
  {
   "cell_type": "code",
   "execution_count": 7,
   "id": "c59d7fd6-8186-4b19-9435-ffdb9435447e",
   "metadata": {},
   "outputs": [
    {
     "name": "stdout",
     "output_type": "stream",
     "text": [
      "   Color    Size Material\n",
      "0    red   small     wood\n",
      "1  green  medium    metal\n",
      "2   blue   large  plastic\n",
      "3    red  medium    metal\n",
      "4   blue   small  plastic\n"
     ]
    }
   ],
   "source": [
    "print(df)"
   ]
  },
  {
   "cell_type": "code",
   "execution_count": 10,
   "id": "747f23e5-c3f7-47e8-bc0f-26f2a2768e42",
   "metadata": {},
   "outputs": [
    {
     "name": "stdout",
     "output_type": "stream",
     "text": [
      "   Color    Size Material  Color_encoded  Size_encoded  Material_encoded\n",
      "0    red   small     wood              2             2                 2\n",
      "1  green  medium    metal              1             1                 0\n",
      "2   blue   large  plastic              0             0                 1\n",
      "3    red  medium    metal              2             1                 0\n",
      "4   blue   small  plastic              0             2                 1\n"
     ]
    }
   ],
   "source": [
    "label_encoders = {}\n",
    "for column in df.columns:\n",
    "    label_encoders[column] = LabelEncoder()\n",
    "    df[column + '_encoded'] = label_encoders[column].fit_transform(df[column])\n",
    "print(df)"
   ]
  },
  {
   "cell_type": "markdown",
   "id": "e7d5ca06-97dd-40b3-a34e-683d470279df",
   "metadata": {},
   "source": [
    "Q5. 5. Calculate the covariance matrix:-"
   ]
  },
  {
   "cell_type": "code",
   "execution_count": 8,
   "id": "8d6aacce-b3e0-4e80-a455-284ec2102611",
   "metadata": {},
   "outputs": [
    {
     "name": "stdout",
     "output_type": "stream",
     "text": [
      "[[   25    30    28    35    22]\n",
      " [50000 60000 55000 75000 40000]\n",
      " [    2     3     2     4     1]]\n"
     ]
    }
   ],
   "source": [
    "import numpy as np\n",
    "\n",
    "age = [25, 30, 28, 35, 22]\n",
    "income = [50000, 60000, 55000, 75000, 40000]\n",
    "education_level = [2, 3, 2, 4, 1]\n",
    "\n",
    "data = np.array([age, income, education_level])\n",
    "print(data)"
   ]
  },
  {
   "cell_type": "code",
   "execution_count": 12,
   "id": "84efa47e-218b-4b4d-8774-a51f365d42c4",
   "metadata": {},
   "outputs": [
    {
     "name": "stdout",
     "output_type": "stream",
     "text": [
      "Covariance Matrix:\n",
      "[[2.450e+01 6.375e+04 5.500e+00]\n",
      " [6.375e+04 1.675e+08 1.450e+04]\n",
      " [5.500e+00 1.450e+04 1.300e+00]]\n"
     ]
    }
   ],
   "source": [
    "covariance_matrix = np.cov(data)\n",
    "\n",
    "print(\"Covariance Matrix:\")\n",
    "print(covariance_matrix)"
   ]
  },
  {
   "cell_type": "markdown",
   "id": "750e8ff3-ccd6-4ebe-91e7-7f2987ba19d8",
   "metadata": {},
   "source": [
    "Q6. Encoding method for each of the given categorical variables :\n",
    "    \n",
    "  Gender (Nominal Variable - No Inherent Order):\n",
    "  \n",
    "  Education Level (Ordinal Variable with Implicit Order):\n",
    "  \n",
    "  Employment Status (Nominal Variable - No Inherent Order):\n",
    "  "
   ]
  },
  {
   "cell_type": "code",
   "execution_count": 9,
   "id": "0aa2a3af-c184-45a0-b5d6-39dfb75bf551",
   "metadata": {},
   "outputs": [
    {
     "name": "stdout",
     "output_type": "stream",
     "text": [
      "   Gender Education Level Employment Status\n",
      "0    Male      Bachelor's         Full-Time\n",
      "1  Female        Master's         Part-Time\n",
      "2    Male             PhD        Unemployed\n",
      "3  Female     High School         Full-Time\n",
      "4    Male        Master's         Part-Time\n"
     ]
    }
   ],
   "source": [
    "import pandas as pd\n",
    "\n",
    "data = {\n",
    "    'Gender': ['Male', 'Female', 'Male', 'Female', 'Male'],\n",
    "    'Education Level': ['Bachelor\\'s', 'Master\\'s', 'PhD', 'High School', 'Master\\'s'],\n",
    "    'Employment Status': ['Full-Time', 'Part-Time', 'Unemployed', 'Full-Time', 'Part-Time']\n",
    "}\n",
    "\n",
    "df = pd.DataFrame(data)\n",
    "print(df)"
   ]
  },
  {
   "cell_type": "code",
   "execution_count": 7,
   "id": "a99291cc-5996-4e34-9a7b-4b358f951e14",
   "metadata": {},
   "outputs": [
    {
     "name": "stdout",
     "output_type": "stream",
     "text": [
      "  Education Level Employment Status  Education_Level_Encoded  Gender_Female  \\\n",
      "0      Bachelor's         Full-Time                      1.0              0   \n",
      "1        Master's         Part-Time                      2.0              1   \n",
      "2             PhD        Unemployed                      3.0              0   \n",
      "3     High School         Full-Time                      0.0              1   \n",
      "4        Master's         Part-Time                      2.0              0   \n",
      "\n",
      "   Gender_Male  \n",
      "0            1  \n",
      "1            0  \n",
      "2            1  \n",
      "3            0  \n",
      "4            1  \n"
     ]
    }
   ],
   "source": [
    "df_encoded = pd.get_dummies(df, columns=['Gender'], prefix=['Gender'])\n",
    "print(df_encoded)"
   ]
  },
  {
   "cell_type": "code",
   "execution_count": 12,
   "id": "55392062-13c7-4b73-8172-61e63b7f760b",
   "metadata": {},
   "outputs": [
    {
     "name": "stdout",
     "output_type": "stream",
     "text": [
      "   Gender Education Level Employment Status  Education_Level_Encoded\n",
      "0    Male      Bachelor's         Full-Time                      1.0\n",
      "1  Female        Master's         Part-Time                      2.0\n",
      "2    Male             PhD        Unemployed                      3.0\n",
      "3  Female     High School         Full-Time                      0.0\n",
      "4    Male        Master's         Part-Time                      2.0\n"
     ]
    }
   ],
   "source": [
    "from sklearn.preprocessing import OrdinalEncoder\n",
    "\n",
    "education_levels = ['High School', \"Bachelor's\", \"Master's\", 'PhD']\n",
    "ordinal_encoder = OrdinalEncoder(categories=[education_levels])\n",
    "df['Education_Level_Encoded'] = ordinal_encoder.fit_transform(df[['Education Level']])\n",
    "print(df)"
   ]
  },
  {
   "cell_type": "code",
   "execution_count": 6,
   "id": "7b00fda7-dc75-4aa4-9521-a35b7284f46c",
   "metadata": {},
   "outputs": [],
   "source": [
    "df_encoded = pd.get_dummies(df, columns=['Employment Status'], prefix=['Employment_Status'])"
   ]
  },
  {
   "cell_type": "code",
   "execution_count": 10,
   "id": "321caac7-7909-4a5f-8446-a430885ab1e2",
   "metadata": {},
   "outputs": [
    {
     "name": "stdout",
     "output_type": "stream",
     "text": [
      "  Education Level Employment Status  Education_Level_Encoded  Gender_Female  \\\n",
      "0      Bachelor's         Full-Time                      1.0              0   \n",
      "1        Master's         Part-Time                      2.0              1   \n",
      "2             PhD        Unemployed                      3.0              0   \n",
      "3     High School         Full-Time                      0.0              1   \n",
      "4        Master's         Part-Time                      2.0              0   \n",
      "\n",
      "   Gender_Male  \n",
      "0            1  \n",
      "1            0  \n",
      "2            1  \n",
      "3            0  \n",
      "4            1  \n"
     ]
    }
   ],
   "source": [
    "print(df_encoded )"
   ]
  },
  {
   "cell_type": "markdown",
   "id": "177df941-7b18-4976-b4ff-e60da5433932",
   "metadata": {},
   "source": [
    "Q7.Calculate the covariance between each pair of variables in the dataset:-"
   ]
  },
  {
   "cell_type": "code",
   "execution_count": 10,
   "id": "01641f67-076e-4335-b1e6-c2a7c6612d2c",
   "metadata": {},
   "outputs": [],
   "source": [
    "import numpy as np\n",
    "\n",
    "temperature = [75, 68, 82, 60, 72]\n",
    "humidity = [45, 60, 75, 80, 55]\n",
    "weather_condition = ['Sunny', 'Cloudy', 'Rainy', 'Sunny', 'Cloudy']\n",
    "wind_direction = ['North', 'South', 'East', 'West', 'North']\n"
   ]
  },
  {
   "cell_type": "code",
   "execution_count": 17,
   "id": "9e48c2f1-875e-4844-b10a-d4296b3efdae",
   "metadata": {},
   "outputs": [
    {
     "name": "stdout",
     "output_type": "stream",
     "text": [
      "Covariance Matrix between Temperature and Humidity:\n"
     ]
    }
   ],
   "source": [
    "data = np.array([temperature, humidity])\n",
    "print(\"Covariance Matrix between Temperature and Humidity:\")"
   ]
  },
  {
   "cell_type": "code",
   "execution_count": 12,
   "id": "64ddf04e-3414-40c1-8515-f66837d0e5b5",
   "metadata": {},
   "outputs": [
    {
     "name": "stdout",
     "output_type": "stream",
     "text": [
      "\n",
      "Covariance Matrix between Weather Condition and Wind Direction:\n",
      "[[0.7  0.05]\n",
      " [0.05 1.7 ]]\n"
     ]
    }
   ],
   "source": [
    "\n",
    "weather_encoded = np.array([0, 1, 2, 0, 1])  # Encoding Sunny=0, Cloudy=1, Rainy=2\n",
    "wind_encoded = np.array([0, 1, 2, 3, 0])    # Encoding North=0, South=1, East=2, West=3\n",
    "categorical_data = np.array([weather_encoded, wind_encoded])\n",
    "\n",
    "covariance_matrix_categorical = np.cov(categorical_data)\n",
    "\n",
    "print(\"\\nCovariance Matrix between Weather Condition and Wind Direction:\")\n",
    "print(covariance_matrix_categorical)\n"
   ]
  },
  {
   "cell_type": "code",
   "execution_count": null,
   "id": "8c21596d-044f-4685-820d-c1360589e881",
   "metadata": {},
   "outputs": [],
   "source": []
  }
 ],
 "metadata": {
  "kernelspec": {
   "display_name": "Python 3 (ipykernel)",
   "language": "python",
   "name": "python3"
  },
  "language_info": {
   "codemirror_mode": {
    "name": "ipython",
    "version": 3
   },
   "file_extension": ".py",
   "mimetype": "text/x-python",
   "name": "python",
   "nbconvert_exporter": "python",
   "pygments_lexer": "ipython3",
   "version": "3.10.8"
  }
 },
 "nbformat": 4,
 "nbformat_minor": 5
}
